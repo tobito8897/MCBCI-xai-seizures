{
 "cells": [
  {
   "cell_type": "code",
   "execution_count": 2,
   "id": "flush-munich",
   "metadata": {},
   "outputs": [],
   "source": [
    "import sys\n",
    "sys.path.append(\"../\")\n",
    "import numpy as np\n",
    "import pandas as pd\n",
    "from utils import settings\n",
    "from utils.visualizations import plot_database_comparison, plot_seizure_comparison\n",
    "from scipy.stats import wilcoxon, friedmanchisquare"
   ]
  },
  {
   "cell_type": "markdown",
   "id": "acute-harbor",
   "metadata": {},
   "source": [
    "<h3> METRICS </h3>"
   ]
  },
  {
   "cell_type": "code",
   "execution_count": 3,
   "id": "equivalent-nature",
   "metadata": {},
   "outputs": [
    {
     "name": "stdout",
     "output_type": "stream",
     "text": [
      "0.8335043745136179 0.6088577396506475 0.7190590534049296 0.7365101248988006 0.8678504583831878\n",
      "0.7321119427821886 0.8053464269238843 0.766607735696751 0.750085147659763 0.8807791932077809\n",
      "0.6213815398957244 0.8776421425348072 0.7492291339469319 0.6940328811629738 0.8812401003157619\n",
      "\n",
      "0.8497011117861895 0.4122352822369635 0.6306076745308727 0.687878910736073 0.7829497537682044\n",
      "0.7485548032173936 0.6219268124041099 0.6864754581409005 0.6884718810391258 0.7904544365472987\n",
      "0.5436300910951489 0.8128000705464086 0.6806982162447546 0.5849581726528695 0.7864899975685558\n",
      "\n",
      "0.7373311481349385 0.46594051597256275 0.6027914866289573 0.6132860521712636 0.7086151595849207\n",
      "0.6821627770814068 0.5740786356589105 0.6290358545404322 0.5907680508512235 0.7336372039010155\n",
      "0.7034261259377591 0.5862319178928926 0.645301549424993 0.6276845442291636 0.7492069206894494\n"
     ]
    }
   ],
   "source": [
    "input_dir = settings[\"chb-mit\"][\"metrics_dir\"]\n",
    "chb_data_0_5 = pd.read_csv(f\"{input_dir}perf_chb-mit_wang_1d_0.5__summary.csv\")\n",
    "siena_data_0_5 = pd.read_csv(f\"{input_dir}perf_siena_wang_1d_0.5__summary.csv\")\n",
    "tusz_data_0_5 = pd.read_csv(f\"{input_dir}perf_tusz_wang_1d_0.5__summary.csv\")\n",
    "chb_data_0_7 = pd.read_csv(f\"{input_dir}perf_chb-mit_wang_1d_0.7_summary.csv\")\n",
    "siena_data_0_7 = pd.read_csv(f\"{input_dir}perf_siena_wang_1d_0.7_summary.csv\")\n",
    "tusz_data_0_7 = pd.read_csv(f\"{input_dir}perf_tusz_wang_1d_0.7_summary.csv\")\n",
    "chb_data_0_8 = pd.read_csv(f\"{input_dir}perf_chb-mit_wang_1d_0.8_summary.csv\")\n",
    "siena_data_0_8 = pd.read_csv(f\"{input_dir}perf_siena_wang_1d_0.8_summary.csv\")\n",
    "tusz_data_0_8 = pd.read_csv(f\"{input_dir}perf_tusz_wang_1d_0.8_summary.csv\")\n",
    "\n",
    "print(chb_data_0_5.sensitivity.mean(), chb_data_0_5.specificity.mean(), chb_data_0_5.accuracy.mean(), \n",
    "      chb_data_0_5.f1_score.mean(), chb_data_0_5.auc_roc.mean())\n",
    "print(chb_data_0_7.sensitivity.mean(), chb_data_0_7.specificity.mean(), chb_data_0_7.accuracy.mean(), \n",
    "      chb_data_0_7.f1_score.mean(), chb_data_0_7.auc_roc.mean())\n",
    "print(chb_data_0_8.sensitivity.mean(), chb_data_0_8.specificity.mean(), chb_data_0_8.accuracy.mean(), \n",
    "      chb_data_0_8.f1_score.mean(), chb_data_0_8.auc_roc.mean())\n",
    "print()\n",
    "\n",
    "print(siena_data_0_5.sensitivity.mean(), siena_data_0_5.specificity.mean(), siena_data_0_5.accuracy.mean(),\n",
    "      siena_data_0_5.f1_score.mean(), siena_data_0_5.auc_roc.mean())\n",
    "print(siena_data_0_7.sensitivity.mean(), siena_data_0_7.specificity.mean(), siena_data_0_7.accuracy.mean(),\n",
    "      siena_data_0_7.f1_score.mean(), siena_data_0_7.auc_roc.mean())\n",
    "print(siena_data_0_8.sensitivity.mean(), siena_data_0_8.specificity.mean(), siena_data_0_8.accuracy.mean(),\n",
    "      siena_data_0_8.f1_score.mean(), siena_data_0_8.auc_roc.mean())\n",
    "print()\n",
    "\n",
    "print(tusz_data_0_5.sensitivity.mean(), tusz_data_0_5.specificity.mean(), tusz_data_0_5.accuracy.mean(), \n",
    "      tusz_data_0_5.f1_score.mean(), tusz_data_0_5.auc_roc.mean())\n",
    "print(tusz_data_0_7.sensitivity.mean(), tusz_data_0_7.specificity.mean(), tusz_data_0_7.accuracy.mean(), \n",
    "      tusz_data_0_7.f1_score.mean(), tusz_data_0_7.auc_roc.mean())\n",
    "print(tusz_data_0_8.sensitivity.mean(), tusz_data_0_8.specificity.mean(), tusz_data_0_8.accuracy.mean(), \n",
    "      tusz_data_0_8.f1_score.mean(), tusz_data_0_8.auc_roc.mean())"
   ]
  },
  {
   "cell_type": "markdown",
   "id": "abroad-hindu",
   "metadata": {},
   "source": [
    "<h3> DATABASE COMPARISON </h3>"
   ]
  },
  {
   "cell_type": "code",
   "execution_count": 6,
   "id": "returning-sense",
   "metadata": {},
   "outputs": [
    {
     "data": {
      "image/png": "[encoded data removed]",
      "text/plain": [
       "<Figure size 396x288 with 1 Axes>"
      ]
     },
     "metadata": {
      "needs_background": "light"
     },
     "output_type": "display_data"
    }
   ],
   "source": [
    "###############################################\n",
    "input_dir = settings[\"chb-mit\"][\"metrics_dir\"]\n",
    "chb_data = pd.read_csv(f\"{input_dir}perf_chb-mit_wang_1d_0.7_summary.csv\")\n",
    "siena_data = pd.read_csv(f\"{input_dir}perf_siena_wang_1d_0.7_summary.csv\")\n",
    "tusz_data = pd.read_csv(f\"{input_dir}perf_tusz_wang_1d_0.7_summary.csv\")\n",
    "#################################################\n",
    "\n",
    "database = ([\"CHB-MIT\"]*len(chb_data) + \n",
    "            [\"Siena\"]*len(siena_data) +\n",
    "            [\"TUSZ\"]*len(tusz_data) +\n",
    "            [\"CHB-MIT\"]*len(chb_data) + \n",
    "            [\"Siena\"]*len(siena_data) +\n",
    "            [\"TUSZ\"]*len(tusz_data) +\n",
    "            [\"CHB-MIT\"]*len(chb_data) + \n",
    "            [\"Siena\"]*len(siena_data) +\n",
    "            [\"TUSZ\"]*len(tusz_data) +\n",
    "            [\"CHB-MIT\"]*len(chb_data) + \n",
    "            [\"Siena\"]*len(siena_data) +\n",
    "            [\"TUSZ\"]*len(tusz_data) +\n",
    "            [\"CHB-MIT\"]*len(chb_data) + \n",
    "            [\"Siena\"]*len(siena_data) +\n",
    "            [\"TUSZ\"]*len(tusz_data))\n",
    "values = (chb_data.sensitivity.to_list() + \n",
    "          siena_data.sensitivity.to_list() + \n",
    "          tusz_data.sensitivity.to_list() + \n",
    "          chb_data.specificity.to_list() +\n",
    "          siena_data.specificity.to_list() + \n",
    "          tusz_data.specificity.to_list() + \n",
    "          chb_data.accuracy.to_list() + \n",
    "          siena_data.accuracy.to_list() + \n",
    "          tusz_data.accuracy.to_list() +\n",
    "          chb_data.f1_score.to_list() + \n",
    "          siena_data.f1_score.to_list() + \n",
    "          tusz_data.f1_score.to_list() +\n",
    "          chb_data.auc_roc.to_list() + \n",
    "          siena_data.auc_roc.to_list() + \n",
    "          tusz_data.auc_roc.to_list())\n",
    "metrics = ([\"Sensitivity\"]*len(chb_data) + \n",
    "           [\"Sensitivity\"]*len(siena_data) +\n",
    "           [\"Sensitivity\"]*len(tusz_data) +\n",
    "           [\"Specificity\"]*len(chb_data) + \n",
    "           [\"Specificity\"]*len(siena_data) +\n",
    "           [\"Specificity\"]*len(tusz_data) +\n",
    "           [\"Accuracy\"]*len(chb_data) + \n",
    "           [\"Accuracy\"]*len(siena_data) +\n",
    "           [\"Accuracy\"]*len(tusz_data) + \n",
    "           [\"F1-score\"]*len(chb_data) + \n",
    "           [\"F1-score\"]*len(siena_data) +\n",
    "           [\"F1-score\"]*len(tusz_data) + \n",
    "           [\"AUC-ROC\"]*len(chb_data) + \n",
    "           [\"AUC-ROC\"]*len(siena_data) +\n",
    "           [\"AUC-ROC\"]*len(tusz_data))\n",
    "\n",
    "df = pd.DataFrame({\"Database\": database,\n",
    "                   \"Metric\": metrics,\n",
    "                   \"Performance\": values})\n",
    "\n",
    "plot_database_comparison(df, \"Metric\", \"Performance\", \"Database\", \"Figure5.png\")"
   ]
  },
  {
   "cell_type": "code",
   "execution_count": 5,
   "id": "compact-fisher",
   "metadata": {},
   "outputs": [
    {
     "data": {
      "image/png": "[encoded data removed]",
      "text/plain": [
       "<Figure size 396x288 with 1 Axes>"
      ]
     },
     "metadata": {
      "needs_background": "light"
     },
     "output_type": "display_data"
    }
   ],
   "source": [
    "###############################################\n",
    "input_dir = settings[\"chb-mit\"][\"metrics_dir\"]\n",
    "chb_data_0_5 = pd.read_csv(f\"{input_dir}perf_chb-mit_wang_1d_0.5_summary.csv\")\n",
    "siena_data_0_5 = pd.read_csv(f\"{input_dir}perf_siena_wang_1d_0.5_summary.csv\")\n",
    "tusz_data_0_5 = pd.read_csv(f\"{input_dir}perf_tusz_wang_1d_0.5_summary.csv\")\n",
    "chb_data_0_7 = pd.read_csv(f\"{input_dir}perf_chb-mit_wang_1d_0.7_summary.csv\")\n",
    "siena_data_0_7 = pd.read_csv(f\"{input_dir}perf_siena_wang_1d_0.7_summary.csv\")\n",
    "tusz_data_0_7 = pd.read_csv(f\"{input_dir}perf_tusz_wang_1d_0.7_summary.csv\")\n",
    "chb_data_0_8 = pd.read_csv(f\"{input_dir}perf_chb-mit_wang_1d_0.8_summary.csv\")\n",
    "siena_data_0_8 = pd.read_csv(f\"{input_dir}perf_siena_wang_1d_0.8_summary.csv\")\n",
    "tusz_data_0_8 = pd.read_csv(f\"{input_dir}perf_tusz_wang_1d_0.8_summary.csv\")\n",
    "#################################################\n",
    "\n",
    "database = ([\"CHB-MIT\"]*len(chb_data_0_5) + \n",
    "            [\"Siena\"]*len(siena_data_0_5) +\n",
    "            [\"TUSZ\"]*len(tusz_data_0_5) +\n",
    "            [\"CHB-MIT\"]*len(chb_data_0_7) + \n",
    "            [\"Siena\"]*len(siena_data_0_7) +\n",
    "            [\"TUSZ\"]*len(tusz_data_0_7) +\n",
    "            [\"CHB-MIT\"]*len(chb_data_0_8) + \n",
    "            [\"Siena\"]*len(siena_data_0_8) +\n",
    "            [\"TUSZ\"]*len(tusz_data_0_8) )\n",
    "values = (chb_data_0_5.accuracy.to_list() + \n",
    "          siena_data_0_5.accuracy.to_list() + \n",
    "          tusz_data_0_5.accuracy.to_list() + \n",
    "          chb_data_0_7.accuracy.to_list() +\n",
    "          siena_data_0_7.accuracy.to_list() + \n",
    "          tusz_data_0_7.accuracy.to_list() + \n",
    "          chb_data_0_8.accuracy.to_list() + \n",
    "          siena_data_0_8.accuracy.to_list() + \n",
    "          tusz_data_0_8.accuracy.to_list())\n",
    "overlap = ([\"50%\"]*len(chb_data_0_5) + \n",
    "           [\"50%\"]*len(siena_data_0_5) +\n",
    "           [\"50%\"]*len(tusz_data_0_5) +\n",
    "           [\"70%\"]*len(chb_data_0_7) + \n",
    "           [\"70%\"]*len(siena_data_0_7) +\n",
    "           [\"70%\"]*len(tusz_data_0_7) +\n",
    "           [\"80%\"]*len(chb_data_0_8) + \n",
    "           [\"80%\"]*len(siena_data_0_8) +\n",
    "           [\"80%\"]*len(tusz_data_0_8))\n",
    "\n",
    "df = pd.DataFrame({\"Database\": database,\n",
    "                   \"Overlap\": overlap,\n",
    "                   \"Accuracy\": values})\n",
    "\n",
    "plot_database_comparison(df, \"Database\", \"Accuracy\", \"Overlap\", \"Figure6.png\")"
   ]
  },
  {
   "cell_type": "code",
   "execution_count": 9,
   "id": "early-property",
   "metadata": {},
   "outputs": [
    {
     "name": "stdout",
     "output_type": "stream",
     "text": [
      "FriedmanchisquareResult(statistic=1.2307692307692264, pvalue=0.5404329964865353)\n"
     ]
    }
   ],
   "source": [
    "f1scores = [[a, b, c] for (a, b, c) in zip(tusz_data_0_5.accuracy.to_list(),\n",
    "                                           tusz_data_0_7.accuracy.to_list(),\n",
    "                                           tusz_data_0_8.accuracy.to_list())]\n",
    "\n",
    "for index in range(len(f1scores)):\n",
    "    ordinal_array = [sorted(f1scores[index], reverse=True).index(x) + 1 for x in f1scores[index]]\n",
    "    f1scores[index] = ordinal_array\n",
    "\n",
    "ordinal_array = []\n",
    "for patient in range(len(f1scores[0])):\n",
    "    patient_order = [experiment[patient] for experiment in f1scores]\n",
    "    ordinal_array.append(patient_order)\n",
    "\n",
    "print(friedmanchisquare(*ordinal_array))"
   ]
  },
  {
   "cell_type": "code",
   "execution_count": 3,
   "id": "forward-aberdeen",
   "metadata": {},
   "outputs": [
    {
     "data": {
      "image/png": "[encoded data removed]",
      "text/plain": [
       "<Figure size 396x288 with 1 Axes>"
      ]
     },
     "metadata": {
      "needs_background": "light"
     },
     "output_type": "display_data"
    }
   ],
   "source": [
    "###############################################\n",
    "input_dir = settings[\"chb-mit\"][\"metrics_dir\"]\n",
    "chb_data_0_5 = pd.read_csv(f\"{input_dir}perf_chb-mit_wang_1d_0.5_summary.csv\")\n",
    "siena_data_0_5 = pd.read_csv(f\"{input_dir}perf_siena_wang_1d_0.5_summary.csv\")\n",
    "tusz_data_0_5 = pd.read_csv(f\"{input_dir}perf_tusz_wang_1d_0.5_summary.csv\")\n",
    "chb_data_0_7 = pd.read_csv(f\"{input_dir}perf_chb-mit_wang_1d_0.7_summary.csv\")\n",
    "siena_data_0_7 = pd.read_csv(f\"{input_dir}perf_siena_wang_1d_0.7_summary.csv\")\n",
    "tusz_data_0_7 = pd.read_csv(f\"{input_dir}perf_tusz_wang_1d_0.7_summary.csv\")\n",
    "chb_data_0_8 = pd.read_csv(f\"{input_dir}perf_chb-mit_wang_1d_0.8_summary.csv\")\n",
    "siena_data_0_8 = pd.read_csv(f\"{input_dir}perf_siena_wang_1d_0.8_summary.csv\")\n",
    "tusz_data_0_8 = pd.read_csv(f\"{input_dir}perf_tusz_wang_1d_0.8_summary.csv\")\n",
    "#################################################\n",
    "\n",
    "database = ([\"CHB-MIT\"]*len(chb_data_0_5) + \n",
    "            [\"Siena\"]*len(siena_data_0_5) +\n",
    "            [\"TUSZ\"]*len(tusz_data_0_5) +\n",
    "            [\"CHB-MIT\"]*len(chb_data_0_7) + \n",
    "            [\"Siena\"]*len(siena_data_0_7) +\n",
    "            [\"TUSZ\"]*len(tusz_data_0_7) +\n",
    "            [\"CHB-MIT\"]*len(chb_data_0_8) + \n",
    "            [\"Siena\"]*len(siena_data_0_8) +\n",
    "            [\"TUSZ\"]*len(tusz_data_0_8) )\n",
    "values = (chb_data_0_5.accuracy.to_list() + \n",
    "          siena_data_0_5.accuracy.to_list() + \n",
    "          tusz_data_0_5.accuracy.to_list() + \n",
    "          chb_data_0_7.accuracy.to_list() +\n",
    "          siena_data_0_7.accuracy.to_list() + \n",
    "          tusz_data_0_7.accuracy.to_list() + \n",
    "          chb_data_0_8.accuracy.to_list() + \n",
    "          siena_data_0_8.accuracy.to_list() + \n",
    "          tusz_data_0_8.accuracy.to_list())\n",
    "overlap = ([\"50%\"]*len(chb_data_0_5) + \n",
    "           [\"50%\"]*len(siena_data_0_5) +\n",
    "           [\"50%\"]*len(tusz_data_0_5) +\n",
    "           [\"60%\"]*len(chb_data_0_7) + \n",
    "           [\"60%\"]*len(siena_data_0_7) +\n",
    "           [\"60%\"]*len(tusz_data_0_7) +\n",
    "           [\"70%\"]*len(chb_data_0_8) + \n",
    "           [\"70%\"]*len(siena_data_0_8) +\n",
    "           [\"70%\"]*len(tusz_data_0_8))\n",
    "\n",
    "df = pd.DataFrame({\"Database\": database,\n",
    "                   \"Overlap\": overlap,\n",
    "                   \"Accuracy\": values})\n",
    "\n",
    "plot_database_comparison(df, \"Database\", \"Accuracy\", \"Overlap\", \"test.png\")"
   ]
  },
  {
   "cell_type": "markdown",
   "id": "breeding-northwest",
   "metadata": {},
   "source": [
    "<h3> SEIZURE TYPE COMPARISON </h3>"
   ]
  },
  {
   "cell_type": "code",
   "execution_count": 7,
   "id": "unlike-lounge",
   "metadata": {
    "scrolled": true
   },
   "outputs": [
    {
     "data": {
      "image/png": "[encoded data removed]",
      "text/plain": [
       "<Figure size 396x288 with 2 Axes>"
      ]
     },
     "metadata": {
      "needs_background": "light"
     },
     "output_type": "display_data"
    }
   ],
   "source": [
    "seizure_types = {\"258\": \"tcsz\",\n",
    "                 \"492\": \"gnsz\",\n",
    "                 \"529\": \"fnsz\",\n",
    "                 \"675\": \"absz\",\n",
    "                 \"1027\": \"cpsz\",\n",
    "                 \"2806\": \"cpsz\",\n",
    "                 \"2991\": \"fnsz\",\n",
    "                 \"4456\": \"gnsz\",\n",
    "                 \"5479\": \"cpsz\",\n",
    "                 \"6440\": \"fnsz\",\n",
    "                 \"6514\": \"gnsz\",\n",
    "                 \"6546\": \"fnsz\",\n",
    "                 \"6563\": \"fnsz\",\n",
    "                 \"6811\": \"cpsz\",\n",
    "                 \"6904\": \"cpsz\",\n",
    "                 \"7235\": \"fnsz\",\n",
    "                 \"8512\": \"gnsz\",\n",
    "                 \"9839\": \"fnsz\",\n",
    "                 \"9866\": \"fnsz\",\n",
    "                 \"10022\": \"fnsz\",\n",
    "                 \"10639\": \"gnsz\",\n",
    "                 \"PN00\": \"IAS-T\",\n",
    "                 \"PN05\": \"IAS-T\",\n",
    "                 \"PN06\": \"IAS-T\",\n",
    "                 \"PN09\": \"IAS-T\",\n",
    "                 \"PN10\": \"FBTC-F\",\n",
    "                 \"PN12\": \"IAS-T\",\n",
    "                 \"PN13\": \"IAS-T\",\n",
    "                 \"PN14\": \"WIAS-T\",\n",
    "                 \"PN16\": \"IAS-T\",\n",
    "                 \"PN17\": \"IAS-T\"\n",
    "                 }\n",
    "\n",
    "###############################################\n",
    "input_dir = settings[\"chb-mit\"][\"metrics_dir\"]\n",
    "siena_data = pd.read_csv(f\"{input_dir}perf_siena_wang_1d_0.7_summary.csv\")\n",
    "tusz_data = pd.read_csv(f\"{input_dir}perf_tusz_wang_1d_0.7_summary.csv\")\n",
    "#################################################\n",
    "siena_data[\"Seizure Type\"] = siena_data[\"patient\"].apply(lambda x: seizure_types[str(x)])\n",
    "siena_data = siena_data.rename(columns={\"accuracy\": \"Accuracy\"})\n",
    "tusz_data[\"Seizure Type\"] = tusz_data[\"patient\"].apply(lambda x: seizure_types[str(x)])\n",
    "tusz_data = tusz_data.rename(columns={\"accuracy\": \"Accuracy\"})\n",
    "\n",
    "plot_seizure_comparison(siena_data, tusz_data, \"Seizure Type\", \"Accuracy\", \"Figure7.png\")"
   ]
  }
 ],
 "metadata": {
  "kernelspec": {
   "display_name": "Python 3",
   "language": "python",
   "name": "python3"
  },
  "language_info": {
   "codemirror_mode": {
    "name": "ipython",
    "version": 3
   },
   "file_extension": ".py",
   "mimetype": "text/x-python",
   "name": "python",
   "nbconvert_exporter": "python",
   "pygments_lexer": "ipython3",
   "version": "3.7.13"
  }
 },
 "nbformat": 4,
 "nbformat_minor": 5
}
